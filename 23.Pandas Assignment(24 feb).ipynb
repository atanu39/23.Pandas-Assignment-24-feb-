{
 "cells": [
  {
   "cell_type": "markdown",
   "id": "d33db164-8bd5-42b6-82ab-15c9c620c97c",
   "metadata": {},
   "source": [
    "# Q1. List any five functions of the pandas library with execution."
   ]
  },
  {
   "cell_type": "markdown",
   "id": "d371504a-f0af-4a47-af6d-a8ed568944fc",
   "metadata": {},
   "source": [
    "# Ans :"
   ]
  },
  {
   "cell_type": "markdown",
   "id": "4b0d5260-f21b-4009-b11a-748b7ae8167d",
   "metadata": {},
   "source": [
    "## Here are five common functions in the pandas library along with their execution examples:\n",
    "\n",
    "1. read_csv(): This function is used to read a CSV file and create a DataFrame."
   ]
  },
  {
   "cell_type": "code",
   "execution_count": 3,
   "id": "eb978587-4fc5-4867-b8b7-d26440ad64d0",
   "metadata": {},
   "outputs": [
    {
     "name": "stdout",
     "output_type": "stream",
     "text": [
      "    Name  Age      City\n",
      "0   John   25  New York\n",
      "1   Jane   28     Paris\n",
      "2   Mike   30    London\n",
      "3  Emily   32    Sydney\n",
      "4  David   35     Tokyo\n"
     ]
    }
   ],
   "source": [
    "import pandas as pd\n",
    "\n",
    "# Creating a DataFrame\n",
    "data = {'Name': ['John', 'Jane', 'Mike', 'Emily', 'David'],\n",
    "        'Age': [25, 28, 30, 32, 35],\n",
    "        'City': ['New York', 'Paris', 'London', 'Sydney', 'Tokyo']}\n",
    "df = pd.DataFrame(data)\n",
    "\n",
    "# Creating the \"data.csv\" file\n",
    "df.to_csv('data.csv', index=False)\n",
    "\n",
    "# Reading the CSV file into a DataFrame\n",
    "df = pd.read_csv('data.csv')\n",
    "\n",
    "# Displaying the first 5 rows of the DataFrame\n",
    "print(df)\n"
   ]
  },
  {
   "cell_type": "markdown",
   "id": "5c427592-40dd-4a91-aab7-ed94e392293f",
   "metadata": {},
   "source": [
    "2. head(): This function returns the first n rows of a DataFrame. By default, it returns the first 5 rows."
   ]
  },
  {
   "cell_type": "code",
   "execution_count": 2,
   "id": "a20097e1-8eb0-4652-a73b-77bbb0a2f727",
   "metadata": {},
   "outputs": [
    {
     "name": "stdout",
     "output_type": "stream",
     "text": [
      "   Name  Age      City\n",
      "0  John   25  New York\n",
      "1  Jane   28     Paris\n",
      "2  Mike   30    London\n"
     ]
    }
   ],
   "source": [
    "# Displaying the first 3 rows of the DataFrame\n",
    "print(df.head(3))\n"
   ]
  },
  {
   "cell_type": "markdown",
   "id": "7f414f21-dec7-453f-9b94-1744f92eeec2",
   "metadata": {},
   "source": [
    "3. info(): This function provides a concise summary of a DataFrame, including the column names, data types, and non-null counts."
   ]
  },
  {
   "cell_type": "code",
   "execution_count": 3,
   "id": "d8958689-2b40-412c-8da3-4add8aca66c4",
   "metadata": {},
   "outputs": [
    {
     "name": "stdout",
     "output_type": "stream",
     "text": [
      "<class 'pandas.core.frame.DataFrame'>\n",
      "RangeIndex: 5 entries, 0 to 4\n",
      "Data columns (total 3 columns):\n",
      " #   Column  Non-Null Count  Dtype \n",
      "---  ------  --------------  ----- \n",
      " 0   Name    5 non-null      object\n",
      " 1   Age     5 non-null      int64 \n",
      " 2   City    5 non-null      object\n",
      "dtypes: int64(1), object(2)\n",
      "memory usage: 248.0+ bytes\n",
      "None\n"
     ]
    }
   ],
   "source": [
    "# Displaying the information about the DataFrame\n",
    "print(df.info())"
   ]
  },
  {
   "cell_type": "markdown",
   "id": "59a220ea-c0a6-4073-9103-57d71f4be7d5",
   "metadata": {},
   "source": [
    "4. describe(): This function generates descriptive statistics of a DataFrame, including count, mean, standard deviation, minimum, maximum, and quartile values."
   ]
  },
  {
   "cell_type": "code",
   "execution_count": 4,
   "id": "cacdd54c-088f-46ee-a3e2-27c1a0189f2e",
   "metadata": {},
   "outputs": [
    {
     "name": "stdout",
     "output_type": "stream",
     "text": [
      "             Age\n",
      "count   5.000000\n",
      "mean   30.000000\n",
      "std     3.807887\n",
      "min    25.000000\n",
      "25%    28.000000\n",
      "50%    30.000000\n",
      "75%    32.000000\n",
      "max    35.000000\n"
     ]
    }
   ],
   "source": [
    "# Generating descriptive statistics of the DataFrame\n",
    "print(df.describe())"
   ]
  },
  {
   "cell_type": "markdown",
   "id": "a43d2620-144d-4875-81e9-339f233fb089",
   "metadata": {},
   "source": [
    "5. groupby(): This function is used to group data based on one or more columns and perform aggregate operations on the grouped data."
   ]
  },
  {
   "cell_type": "code",
   "execution_count": 5,
   "id": "27002139-4b59-40fa-80d0-c9e52346191a",
   "metadata": {},
   "outputs": [
    {
     "name": "stdout",
     "output_type": "stream",
     "text": [
      "City\n",
      "London      30.0\n",
      "New York    25.0\n",
      "Paris       28.0\n",
      "Sydney      32.0\n",
      "Tokyo       35.0\n",
      "Name: Age, dtype: float64\n"
     ]
    }
   ],
   "source": [
    "# Grouping the DataFrame by the 'City' column and calculating the average age for each city\n",
    "grouped = df.groupby('City')['Age'].mean()\n",
    "\n",
    "# Displaying the grouped data\n",
    "print(grouped)"
   ]
  },
  {
   "cell_type": "markdown",
   "id": "3dabaa38-ec2e-4513-8cce-575a89cdabf9",
   "metadata": {},
   "source": [
    "# Q2. Given a Pandas DataFrame df with columns 'A', 'B', and 'C', write a Python function to re-index the DataFrame with a new index that starts from 1 and increments by 2 for each row."
   ]
  },
  {
   "cell_type": "markdown",
   "id": "d361f52b-fbfd-4283-ba92-5cea7a188f80",
   "metadata": {},
   "source": [
    "# Ans :"
   ]
  },
  {
   "cell_type": "code",
   "execution_count": 7,
   "id": "985e7254-269f-41bd-bfec-8a99ed5fa1d8",
   "metadata": {},
   "outputs": [
    {
     "name": "stdout",
     "output_type": "stream",
     "text": [
      "Original DataFrame:\n",
      "    A   B    C\n",
      "0  10  50   90\n",
      "1  20  60  100\n",
      "2  30  70  110\n",
      "3  40  80  120\n",
      "\n",
      "Re-indexed DataFrame:\n",
      "    A   B    C\n",
      "1  10  50   90\n",
      "3  20  60  100\n",
      "5  30  70  110\n",
      "7  40  80  120\n"
     ]
    }
   ],
   "source": [
    "import pandas as pd\n",
    "\n",
    "# Creating the DataFrame\n",
    "data = {'A': [10, 20, 30, 40],\n",
    "        'B': [50, 60, 70, 80],\n",
    "        'C': [90, 100, 110, 120]}\n",
    "df = pd.DataFrame(data)\n",
    "\n",
    "# Displaying the original DataFrame\n",
    "print(\"Original DataFrame:\")\n",
    "print(df)\n",
    "\n",
    "# Function to re-index the DataFrame\n",
    "def reindex_with_increment(df):\n",
    "    df_new = df.copy()  # Create a copy of the original DataFrame\n",
    "    df_new.index = range(1, len(df) * 2 + 1, 2)  \n",
    "    # Set the new index starting from 1 and incrementing by 2.\n",
    "    #len(df) * 2 + 1 is the expression that calculates the endpoint (stop value) for the range() function. \n",
    "    #It takes the length of the DataFrame, multiplies it by 2, and adds 1. The resulting value represents the final index value that we want to achieve in the re-indexing process\n",
    "    return df_new\n",
    "\n",
    "# Call the function to re-index the DataFrame\n",
    "df_reindexed = reindex_with_increment(df)\n",
    "\n",
    "# Displaying the re-indexed DataFrame\n",
    "print(\"\\nRe-indexed DataFrame:\")\n",
    "print(df_reindexed)\n"
   ]
  },
  {
   "cell_type": "markdown",
   "id": "caaea63e-8a87-4f0c-b732-72735f680bc6",
   "metadata": {},
   "source": [
    "# Q3. You have a Pandas DataFrame df with a column named 'Values'. Write a Python function that iterates over the DataFrame and calculates the sum of the first three values in the 'Values' column. The function should print the sum to the console. \n",
    "# For example, if the 'Values' column of df contains the values [10, 20, 30, 40, 50], your function should calculate and print the sum of the first three values, which is 60."
   ]
  },
  {
   "cell_type": "markdown",
   "id": "de435023-2a33-494e-91c5-f4ebbbcc3f91",
   "metadata": {},
   "source": [
    "# Ans :"
   ]
  },
  {
   "cell_type": "code",
   "execution_count": 8,
   "id": "6d56aa4f-8ca4-4118-b14e-ef18d21fbca6",
   "metadata": {},
   "outputs": [
    {
     "name": "stdout",
     "output_type": "stream",
     "text": [
      "DataFrame:\n",
      "   Values\n",
      "0      10\n",
      "1      20\n",
      "2      30\n",
      "3      40\n",
      "4      50\n",
      "5      60\n",
      "Sum of the first three values: 60\n"
     ]
    }
   ],
   "source": [
    "import pandas as pd\n",
    "\n",
    "# Creating the DataFrame\n",
    "data = {'Values': [10, 20, 30, 40, 50, 60]}\n",
    "df = pd.DataFrame(data)\n",
    "\n",
    "# Displaying the DataFrame\n",
    "print(\"DataFrame:\")\n",
    "print(df)\n",
    "\n",
    "# Function to calculate the sum of the first three values\n",
    "def calculate_sum_of_first_three(df):\n",
    "    # Get the 'Values' column as a Series\n",
    "    values_column = df['Values']\n",
    "\n",
    "    # Extract the first three values\n",
    "    first_three_values = values_column.head(3)\n",
    "\n",
    "    # Calculate the sum of the first three values\n",
    "    sum_of_first_three = first_three_values.sum()\n",
    "\n",
    "    # Print the sum to the console\n",
    "    print(\"Sum of the first three values:\", sum_of_first_three)\n",
    "\n",
    "# Call the function to calculate the sum of the first three values\n",
    "calculate_sum_of_first_three(df)\n"
   ]
  },
  {
   "cell_type": "markdown",
   "id": "7c20e135-a0b7-4b20-a747-8128cbf87049",
   "metadata": {},
   "source": [
    "# Q4. Given a Pandas DataFrame df with a column 'Text', write a Python function to create a new column 'Word_Count' that contains the number of words in each row of the 'Text' column."
   ]
  },
  {
   "cell_type": "markdown",
   "id": "54483f2c-f5a1-4143-bf5f-1d921354821e",
   "metadata": {},
   "source": [
    "# Ans :"
   ]
  },
  {
   "cell_type": "code",
   "execution_count": 16,
   "id": "5daa50d4-5b2d-4dfc-8fed-169c15e86d34",
   "metadata": {},
   "outputs": [
    {
     "name": "stdout",
     "output_type": "stream",
     "text": [
      "Original DataFrame:\n",
      "                                Text\n",
      "0         This is a sample sentence.\n",
      "1  Another sentence with more words.\n",
      "2                     Only one word.\n",
      "\n",
      "DataFrame with Word_Count:\n",
      "                                Text  Word_Count\n",
      "0         This is a sample sentence.           5\n",
      "1  Another sentence with more words.           5\n",
      "2                     Only one word.           3\n"
     ]
    }
   ],
   "source": [
    "import pandas as pd\n",
    "df = pd.DataFrame({'Text': ['This is a sample sentence.',\n",
    "                            'Another sentence with more words.',\n",
    "                            'Only one word.']})\n",
    "print(\"Original DataFrame:\")\n",
    "print(df)\n",
    "\n",
    "def add_word_count(df):\n",
    "    \n",
    "    # Split the text in each row by whitespace to get a list of words.\n",
    "    '''str.split() method splits the text on whitespace characters (spaces, tabs, etc.),\n",
    "    resulting in a list of individual words for each text entry.'''\n",
    "    \n",
    "    df['Word_Count'] = df['Text'].str.split().str.len()\n",
    "    \n",
    "add_word_count(df)\n",
    "print(\"\\nDataFrame with Word_Count:\")\n",
    "print(df)\n"
   ]
  },
  {
   "cell_type": "markdown",
   "id": "3593aea6-4ac7-4ae7-a7dd-8b477a002d54",
   "metadata": {},
   "source": [
    "# Q5. How are DataFrame.size() and DataFrame.shape() different?"
   ]
  },
  {
   "cell_type": "markdown",
   "id": "fb77be10-687f-406c-8263-4c947678edd2",
   "metadata": {},
   "source": [
    "# Ans :"
   ]
  },
  {
   "cell_type": "markdown",
   "id": "2c995639-07a6-4b68-ba96-6c6fcb3283c0",
   "metadata": {},
   "source": [
    "DataFrame.size() and DataFrame.shape() are both methods of Pandas DataFrame, but they serve different purposes.\n",
    "\n",
    "* DataFrame.size() returns the total number of elements (i.e., cells) in a DataFrame, which is equal to the product of the number of rows and the number of columns. In other words, DataFrame.size() returns the total number of values in the DataFrame, regardless of whether they are unique or not. For example, if a DataFrame has 3 rows and 4 columns, DataFrame.size() will return 12.\n",
    "\n",
    "* DataFrame.shape() returns a tuple that represents the dimensions of a DataFrame, in the form (number of rows, number of columns). For example, if a DataFrame has 3 rows and 4 columns, DataFrame.shape() will return (3, 4).\n",
    "\n",
    "Therefore, DataFrame.size() and DataFrame.shape() are different because they provide different information. DataFrame.size() returns the total number of elements in the DataFrame, while DataFrame.shape() returns the number of rows and columns in the DataFrame.\n",
    "\n",
    "\n",
    "Here's an example to illustrate the difference between the two methods:"
   ]
  },
  {
   "cell_type": "code",
   "execution_count": 5,
   "id": "e37be353-4483-4e7f-af80-1e8475470e9e",
   "metadata": {},
   "outputs": [
    {
     "name": "stdout",
     "output_type": "stream",
     "text": [
      "DataFrame size: 9\n",
      "DataFrame shape: (3, 3)\n"
     ]
    }
   ],
   "source": [
    "import pandas as pd\n",
    "\n",
    "df = pd.DataFrame({'A': [1, 2, 3], 'B': [4, 5, 6], 'C': [7, 8, 9,]})\n",
    "\n",
    "print(\"DataFrame size:\", df.size)\n",
    "print(\"DataFrame shape:\", df.shape)\n"
   ]
  },
  {
   "cell_type": "markdown",
   "id": "ddba6f0b-4705-479b-bc00-2fa249fb05c0",
   "metadata": {},
   "source": [
    "# Q6. Which function of pandas do we use to read an excel file?"
   ]
  },
  {
   "cell_type": "markdown",
   "id": "52f545aa-5752-410b-acb9-63f0f2c54aa1",
   "metadata": {},
   "source": [
    "# Ans :"
   ]
  },
  {
   "cell_type": "markdown",
   "id": "c8e03192-d4c1-4fbf-9d52-8ed05a082103",
   "metadata": {},
   "source": [
    "To read an Excel file in Pandas, you can use the pd.read_excel() function. This function allows you to read data from an Excel file into a Pandas DataFrame.\n",
    "Here's an example of how to use pd.read_excel():"
   ]
  },
  {
   "cell_type": "code",
   "execution_count": null,
   "id": "c4d1ea12-c7fc-4c48-abea-83ddf932b34f",
   "metadata": {},
   "outputs": [],
   "source": [
    "import pandas as pd\n",
    "\n",
    "# Read Excel file into a DataFrame\n",
    "df = pd.read_excel('file.xlsx')\n",
    "\n",
    "# Display the DataFrame\n",
    "print(df)\n"
   ]
  },
  {
   "cell_type": "markdown",
   "id": "ccf6d8e7-86ab-440e-aa6b-840b0ab8fefc",
   "metadata": {
    "tags": []
   },
   "source": [
    "# Q7. You have a Pandas DataFrame df that contains a column named 'Email' that contains email addresses in the format 'username@domain.com'. Write a Python function that creates a new column 'Username' in df that contains only the username part of each email address.\n",
    "\n",
    "# The username is the part of the email address that appears before the '@' symbol. For example, if the email address is 'john.doe@example.com', the 'Username' column should contain 'john.doe'. Your function should extract the username from each email address and store it in the new 'Username' column."
   ]
  },
  {
   "cell_type": "markdown",
   "id": "13c47884-21c9-4fa4-8c26-a709eda77d46",
   "metadata": {},
   "source": [
    "# Ans :"
   ]
  },
  {
   "cell_type": "code",
   "execution_count": 16,
   "id": "89faa1fb-55b5-45d0-9d38-7a4ec1c67fbf",
   "metadata": {},
   "outputs": [
    {
     "name": "stdout",
     "output_type": "stream",
     "text": [
      "Original DataFrame:\n",
      "                    Email\n",
      "0    john.doe@example.com\n",
      "1  jane.smith@example.com\n",
      "\n",
      "DataFrame with Username\n",
      "                    Email    Username\n",
      "0    john.doe@example.com    john.doe\n",
      "1  jane.smith@example.com  jane.smith\n"
     ]
    }
   ],
   "source": [
    "import pandas as pd\n",
    "df = pd.DataFrame({'Email': ['john.doe@example.com', 'jane.smith@example.com']})\n",
    "print(\"Original DataFrame:\")\n",
    "print(df)\n",
    "\n",
    "\n",
    "# the str.split('@') method to split each email address in the 'Email' column on the '@' symbol.\n",
    "#This returns a list with two elements: the username and the domain. We then use str[0] to extract the first element (the username)\n",
    "def extract_username(df):\n",
    "    df['Username'] = df['Email'].str.split('@').str[0]\n",
    "    return df\n",
    "\n",
    "df = extract_username(df)\n",
    "print(\"\\nDataFrame with Username\")\n",
    "print(df)\n"
   ]
  },
  {
   "cell_type": "markdown",
   "id": "68cc56f0-a808-4700-83e4-9d46092409f4",
   "metadata": {},
   "source": [
    "# Q8. You have a Pandas DataFrame df with columns 'A', 'B', and 'C'. Write a Python function that selects all rows where the value in column 'A' is greater than 5 and the value in column 'B' is less than 10. The function should return a new DataFrame that contains only the selected rows.\n",
    "# For example, if df contains the following values:\n",
    "_ A B C\n",
    "\n",
    "0 3 5 1\n",
    "\n",
    "1 8 2 7\n",
    "\n",
    "2 6 9 4\n",
    "\n",
    "3 2 3 5\n",
    "\n",
    "4 9 1 2"
   ]
  },
  {
   "cell_type": "code",
   "execution_count": 6,
   "id": "b459b998-50dd-4bc3-bc29-7ba7a269d0ab",
   "metadata": {},
   "outputs": [
    {
     "name": "stdout",
     "output_type": "stream",
     "text": [
      "Given Data Frame :\n",
      "\n",
      "   A  B  C\n",
      "0  3  5  1\n",
      "1  8  2  7\n",
      "2  6  9  4\n",
      "3  2  3  5\n",
      "4  9  1  2\n",
      "\n",
      "New Data Frame After Sorting :\n",
      "\n",
      "   A  B  C\n",
      "1  8  2  7\n",
      "2  6  9  4\n",
      "4  9  1  2\n"
     ]
    }
   ],
   "source": [
    "import pandas as pd\n",
    "df = pd.DataFrame({'A': [3,8,6,2,9],\n",
    "                   'B': [5,2,9,3,1],\n",
    "                   'C': [1,7,4,5,2]\n",
    "                  })\n",
    "print(\"Given Data Frame :\\n\")\n",
    "print(df)\n",
    "\n",
    "def df_sorting(df):\n",
    "    df_new = df.copy()  # Create a copy of the original DataFrame\n",
    "    result=df_new[(df_new[\"A\"]>5) & (df_new[\"B\"]<10)]\n",
    "    return result\n",
    "new_sorted_df=df_sorting(df)\n",
    "print(\"\\nNew Data Frame After Sorting :\\n\")\n",
    "print(new_sorted_df)\n"
   ]
  },
  {
   "cell_type": "markdown",
   "id": "3fc001df-d756-4ef8-b434-cb2fd5d287f0",
   "metadata": {},
   "source": [
    "# Q9. Given a Pandas DataFrame df with a column 'Values', write a Python function to calculate the mean, median, and standard deviation of the values in the 'Values' column."
   ]
  },
  {
   "cell_type": "markdown",
   "id": "21583268-a89a-4a8c-961d-9e58fd62b822",
   "metadata": {},
   "source": [
    "# Ans :"
   ]
  },
  {
   "cell_type": "code",
   "execution_count": 35,
   "id": "d6dda412-acc0-48b2-bb09-d7b8590256bc",
   "metadata": {},
   "outputs": [
    {
     "name": "stdout",
     "output_type": "stream",
     "text": [
      "Mean: 5.5\n",
      "Median: 5.5\n",
      "Standard Deviation: 3.0276503540974917\n"
     ]
    }
   ],
   "source": [
    "import pandas as pd\n",
    "\n",
    "df = pd.DataFrame({'Values': [1, 2, 3, 4, 5, 6, 7, 8, 9, 10]})\n",
    "\n",
    "def calculate_statistics(df):\n",
    "    values = df['Values']\n",
    "    mean_val = values.mean()\n",
    "    median_val = values.median()\n",
    "    std_dev_val = values.std()\n",
    "    return mean_val, median_val, std_dev_val\n",
    "\n",
    "mean, median, std_dev = calculate_statistics(df) # Values are assigned to the variables mean, median, and std_dev respectively.\n",
    "print(\"Mean:\", mean)\n",
    "print(\"Median:\", median)\n",
    "print(\"Standard Deviation:\", std_dev)\n"
   ]
  },
  {
   "cell_type": "markdown",
   "id": "59cc4a58-8e0a-4465-aff4-4c00abef0e1d",
   "metadata": {},
   "source": [
    "# Q10. Given a Pandas DataFrame df with a column 'Sales' and a column 'Date', write a Python function to create a new column 'MovingAverage' that contains the moving average of the sales for the past 7 days for each row in the DataFrame. The moving average should be calculated using a window of size 7 and should include the current day."
   ]
  },
  {
   "cell_type": "markdown",
   "id": "e5212575-cd85-4d1d-adec-f997410c73a2",
   "metadata": {},
   "source": [
    "# Ans :"
   ]
  },
  {
   "cell_type": "code",
   "execution_count": 1,
   "id": "30a417a7-a1cf-49e5-bb67-b003af8dd28e",
   "metadata": {},
   "outputs": [
    {
     "name": "stdout",
     "output_type": "stream",
     "text": [
      "Original DataFrame:\n",
      "          Date  Sales\n",
      "0   2023-05-01     10\n",
      "1   2023-05-02     12\n",
      "2   2023-05-03      8\n",
      "3   2023-05-04     15\n",
      "4   2023-05-05      9\n",
      "5   2023-05-06     11\n",
      "6   2023-05-07     13\n",
      "7   2023-05-08     14\n",
      "8   2023-05-09     16\n",
      "9   2023-05-10     17\n",
      "10  2023-05-11     11\n",
      "11  2023-05-12      9\n",
      "12  2023-05-13     12\n",
      "13  2023-05-14     15\n",
      "\n",
      "New DataFrame:\n",
      "         Date  Sales  MovingAverage\n",
      "0  2023-05-01     10      10.000000\n",
      "1  2023-05-02     12      11.000000\n",
      "2  2023-05-03      8      10.000000\n",
      "3  2023-05-04     15      11.250000\n",
      "4  2023-05-05      9      10.800000\n",
      "5  2023-05-06     11      10.833333\n",
      "6  2023-05-07     13      11.142857\n",
      "7  2023-05-08     14      11.714286\n",
      "8  2023-05-09     16      12.285714\n",
      "9  2023-05-10     17      13.571429\n",
      "10 2023-05-11     11      13.000000\n",
      "11 2023-05-12      9      13.000000\n",
      "12 2023-05-13     12      13.142857\n",
      "13 2023-05-14     15      13.428571\n"
     ]
    }
   ],
   "source": [
    "import pandas as pd\n",
    "\n",
    "# Creating a sample DataFrame\n",
    "data = {\n",
    "    'Date': ['2023-05-01', '2023-05-02', '2023-05-03', '2023-05-04', '2023-05-05', '2023-05-06', '2023-05-07', '2023-05-08', '2023-05-09', '2023-05-10', '2023-05-11', '2023-05-12', '2023-05-13', '2023-05-14'],\n",
    "    'Sales': [10, 12, 8, 15, 9, 11, 13, 14, 16, 17, 11, 9, 12, 15]\n",
    "}\n",
    "\n",
    "df = pd.DataFrame(data)\n",
    "print(\"Original DataFrame:\")\n",
    "print (df)\n",
    "\n",
    "# Converting 'Date' column to datetime format\n",
    "\"\"\"It is necessary to convert the 'Date' column to datetime format in order to perform various date-related operations,\n",
    "such as sorting the DataFrame by date or calculating the moving average based on date ranges.\"\"\"\n",
    "\n",
    "df['Date'] = pd.to_datetime(df['Date'])\n",
    "\n",
    "# Sorting DataFrame by 'Date'\n",
    "df = df.sort_values('Date')\n",
    "\n",
    "def calculate_moving_average(df):\n",
    "    df['MovingAverage'] = df['Sales'].rolling(window=7, min_periods=1).mean()\n",
    "    # This function calculates the moving average using a window of size 7 and includes the current day by specifying min_periods=1.\n",
    "    return df\n",
    "\n",
    "# Calculating the moving average\n",
    "new_df = calculate_moving_average(df)\n",
    "\n",
    "print(\"\\nNew DataFrame:\")\n",
    "print(new_df)\n"
   ]
  },
  {
   "cell_type": "markdown",
   "id": "71369152-5a18-4f61-a453-f142de80f1e6",
   "metadata": {},
   "source": [
    "# Q11. You have a Pandas DataFrame df with a column 'Date'. Write a Python function that creates a new column 'Weekday' in the DataFrame. The 'Weekday' column should contain the weekday name (e.g. Monday, Tuesday) corresponding to each date in the 'Date' column.\n",
    "## For example, if df contains the following values:\n",
    "## Date\n",
    "### 0 2023-01-01\n",
    "### 1 2023-01-02\n",
    "### 2 2023-01-03\n",
    "### 3 2023-01-04\n",
    "### 4 2023-01-05\n",
    "## Your function should create the following DataFrame:\n",
    "\n",
    "## Date Weekday\n",
    "### 0 2023-01-01 Sunday\n",
    "### 1 2023-01-02 Monday\n",
    "### 2 2023-01-03 Tuesday\n",
    "### 3 2023-01-04 Wednesday\n",
    "### 4 2023-01-05 Thursday\n",
    "## The function should return the modified DataFrame."
   ]
  },
  {
   "cell_type": "code",
   "execution_count": 27,
   "id": "0e522a46-8778-46f9-993a-cb7b1caff127",
   "metadata": {},
   "outputs": [
    {
     "name": "stdout",
     "output_type": "stream",
     "text": [
      "Original DataFrame:\n",
      "\n",
      "          Date\n",
      "0   2023-05-01\n",
      "1   2023-05-02\n",
      "2   2023-05-03\n",
      "3   2023-05-04\n",
      "4   2023-05-05\n",
      "5   2023-05-06\n",
      "6   2023-05-07\n",
      "7   2023-05-08\n",
      "8   2023-05-09\n",
      "9   2023-05-10\n",
      "10  2023-05-11\n",
      "11  2023-05-12\n",
      "12  2023-05-13\n",
      "13  2023-05-14\n",
      "New DataFrame with weekdays :\n",
      "\n",
      "         Date    Weekday\n",
      "0  2023-05-01     Monday\n",
      "1  2023-05-02    Tuesday\n",
      "2  2023-05-03  Wednesday\n",
      "3  2023-05-04   Thursday\n",
      "4  2023-05-05     Friday\n",
      "5  2023-05-06   Saturday\n",
      "7  2023-05-08     Monday\n",
      "8  2023-05-09    Tuesday\n",
      "9  2023-05-10  Wednesday\n",
      "10 2023-05-11   Thursday\n",
      "11 2023-05-12     Friday\n",
      "12 2023-05-13   Saturday\n"
     ]
    }
   ],
   "source": [
    "import pandas as pd\n",
    "\n",
    "# Creating a sample DataFrame\n",
    "data = {\n",
    "    'Date': ['2023-05-01', '2023-05-02', '2023-05-03', '2023-05-04', '2023-05-05', '2023-05-06', '2023-05-07', '2023-05-08', '2023-05-09', '2023-05-10', '2023-05-11', '2023-05-12', '2023-05-13', '2023-05-14'],\n",
    "        }\n",
    "\n",
    "\n",
    "df = pd.DataFrame(data)\n",
    "print(\"Original DataFrame:\\n\")\n",
    "print (df)\n",
    "\n",
    "def add_weekday_column(df):\n",
    "    df['Date'] = pd.to_datetime(df['Date'])\n",
    "    df['Weekday'] = df['Date'].dt.day_name()\n",
    "    df = df[~(df['Weekday'] == 'Sunday')]\n",
    "    return df\n",
    "\n",
    "new_df = add_weekday_column(df)\n",
    "print(\"New DataFrame with weekdays :\\n\")\n",
    "print(new_df)\n"
   ]
  },
  {
   "cell_type": "markdown",
   "id": "5ccc285f-6266-4052-8c34-d877e8cb78ac",
   "metadata": {},
   "source": [
    "# Q12. Given a Pandas DataFrame df with a column 'Date' that contains timestamps, write a Python function to select all rows where the date is between '2023-01-01' and '2023-01-31'."
   ]
  },
  {
   "cell_type": "markdown",
   "id": "c123a6fb-a4e7-4bb8-8519-b64e47dcdf1c",
   "metadata": {},
   "source": [
    "# Ans :"
   ]
  },
  {
   "cell_type": "code",
   "execution_count": 1,
   "id": "acc22995-85b6-4bc8-bfd9-5f4da8c5582a",
   "metadata": {},
   "outputs": [
    {
     "name": "stdout",
     "output_type": "stream",
     "text": [
      "Original DataFrame:\n",
      "\n",
      "                    Date\n",
      "0    2023-01-01 00:00:00\n",
      "1    2023-01-01 01:00:00\n",
      "2    2023-01-01 02:00:00\n",
      "3    2023-01-01 03:00:00\n",
      "4    2023-01-01 04:00:00\n",
      "...                  ...\n",
      "8732 2023-12-30 20:00:00\n",
      "8733 2023-12-30 21:00:00\n",
      "8734 2023-12-30 22:00:00\n",
      "8735 2023-12-30 23:00:00\n",
      "8736 2023-12-31 00:00:00\n",
      "\n",
      "[8737 rows x 1 columns]\n",
      "\n",
      "Selected rows:\n",
      "                   Date\n",
      "0   2023-01-01 00:00:00\n",
      "1   2023-01-01 01:00:00\n",
      "2   2023-01-01 02:00:00\n",
      "3   2023-01-01 03:00:00\n",
      "4   2023-01-01 04:00:00\n",
      "..                  ...\n",
      "716 2023-01-30 20:00:00\n",
      "717 2023-01-30 21:00:00\n",
      "718 2023-01-30 22:00:00\n",
      "719 2023-01-30 23:00:00\n",
      "720 2023-01-31 00:00:00\n",
      "\n",
      "[721 rows x 1 columns]\n"
     ]
    }
   ],
   "source": [
    "import pandas as pd\n",
    "\n",
    "# Create a DataFrame with a 'Date' column of timestamps\n",
    "df = pd.DataFrame({\n",
    "    'Date': pd.date_range(start='2023-01-01', end='2023-12-31', freq='H')\n",
    "})\n",
    "\n",
    "# Print the DataFrame\n",
    "print(\"Original DataFrame:\\n\")\n",
    "print(df)\n",
    "\n",
    "# Function to select rows between two dates\n",
    "def select_rows_between_dates(df, start_date, end_date):\n",
    "    return df[(df['Date'] >= start_date) & (df['Date'] <= end_date)]\n",
    "\n",
    "# Select rows between '2023-01-01' and '2023-01-31'\n",
    "selected_rows = select_rows_between_dates(df, '2023-01-01', '2023-01-31')\n",
    "\n",
    "# Print the selected rows\n",
    "print(\"\\nSelected rows:\")\n",
    "print(selected_rows)"
   ]
  },
  {
   "cell_type": "markdown",
   "id": "31a7a869-e6ba-4559-ace3-893ad5c4df93",
   "metadata": {},
   "source": [
    "# Q13. To use the basic functions of pandas, what is the first and foremost necessary library that needs to be imported?"
   ]
  },
  {
   "cell_type": "markdown",
   "id": "a9b45a34-8b9b-4a23-a0c1-75f701d28ced",
   "metadata": {},
   "source": [
    "# Ans :"
   ]
  },
  {
   "cell_type": "markdown",
   "id": "e0dc631d-a438-4a71-a3f0-cf0df3e811eb",
   "metadata": {},
   "source": [
    "### The first and foremost library that needs to be imported to use the basic functions of pandas is the pandas library itself.\n",
    "### Here's an example of how to import the pandas library:"
   ]
  },
  {
   "cell_type": "code",
   "execution_count": 2,
   "id": "cb9aa71b-860b-4845-b523-ad6d3e8c11ea",
   "metadata": {},
   "outputs": [],
   "source": [
    "import pandas as pd\n"
   ]
  },
  {
   "cell_type": "code",
   "execution_count": null,
   "id": "04a2d685-617f-42ad-8541-822658c01608",
   "metadata": {},
   "outputs": [],
   "source": []
  }
 ],
 "metadata": {
  "kernelspec": {
   "display_name": "Python 3 (ipykernel)",
   "language": "python",
   "name": "python3"
  },
  "language_info": {
   "codemirror_mode": {
    "name": "ipython",
    "version": 3
   },
   "file_extension": ".py",
   "mimetype": "text/x-python",
   "name": "python",
   "nbconvert_exporter": "python",
   "pygments_lexer": "ipython3",
   "version": "3.10.8"
  }
 },
 "nbformat": 4,
 "nbformat_minor": 5
}
